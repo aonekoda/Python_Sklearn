{
  "nbformat": 4,
  "nbformat_minor": 0,
  "metadata": {
    "kernelspec": {
      "display_name": "Python 3",
      "language": "python",
      "name": "python3"
    },
    "language_info": {
      "codemirror_mode": {
        "name": "ipython",
        "version": 3
      },
      "file_extension": ".py",
      "mimetype": "text/x-python",
      "name": "python",
      "nbconvert_exporter": "python",
      "pygments_lexer": "ipython3",
      "version": "3.7.1"
    },
    "colab": {
      "name": "함수_연습_해답.ipynb",
      "provenance": [],
      "collapsed_sections": [],
      "include_colab_link": true
    }
  },
  "cells": [
    {
      "cell_type": "markdown",
      "metadata": {
        "id": "view-in-github",
        "colab_type": "text"
      },
      "source": [
        "<a href=\"https://colab.research.google.com/github/aonekoda/Python_Sklearn/blob/master/PythonBasics/%ED%95%A8%EC%88%98_%EC%97%B0%EC%8A%B5_%ED%95%B4%EB%8B%B5.ipynb\" target=\"_parent\"><img src=\"https://colab.research.google.com/assets/colab-badge.svg\" alt=\"Open In Colab\"/></a>"
      ]
    },
    {
      "cell_type": "markdown",
      "metadata": {
        "id": "_69sRZ5ktmDp",
        "colab_type": "text"
      },
      "source": [
        "# 함수 연습문제\n",
        "___"
      ]
    },
    {
      "cell_type": "markdown",
      "metadata": {
        "id": "oY4-5IZktmDq",
        "colab_type": "text"
      },
      "source": [
        "1. 숫자를 parameter로 받아 짝수/홀수를 구분하는 odd_even 함수를 만드시오.\n",
        ">- 숫자를 입력으로 받는다.\n",
        ">- 짝수면 \"짝수\", 홀수면 \"홀수\"를 return 한다."
      ]
    },
    {
      "cell_type": "code",
      "metadata": {
        "id": "m6aBzbjItmDr",
        "colab_type": "code",
        "colab": {
          "base_uri": "https://localhost:8080/",
          "height": 35
        },
        "outputId": "35cda5a0-b881-4428-97d3-abef48aa69bd"
      },
      "source": [
        "def odd_even(x) :\n",
        "  return (\"짝수\" if x % 2 == 0 else \"홀수\")\n",
        "\n",
        "odd_even(24)"
      ],
      "execution_count": 1,
      "outputs": [
        {
          "output_type": "execute_result",
          "data": {
            "text/plain": [
              "'짝수'"
            ]
          },
          "metadata": {
            "tags": []
          },
          "execution_count": 1
        }
      ]
    },
    {
      "cell_type": "markdown",
      "metadata": {
        "id": "_GG71MzYtmDw",
        "colab_type": "text"
      },
      "source": [
        "2. 숫자 2개를 입력으로 받아 그 숫자의 합과 차를 리턴하는 함수를 만드시오.\n",
        ">- 숫자를 2개 입력받는다.\n",
        ">- 그 2개 숫자의 합과 차를 구하여 tuple로 리턴한다."
      ]
    },
    {
      "cell_type": "code",
      "metadata": {
        "id": "jiHl-pCLtmDx",
        "colab_type": "code",
        "colab": {
          "base_uri": "https://localhost:8080/",
          "height": 35
        },
        "outputId": "ecdf1c57-7083-47de-f5fc-42e9f8d572f2"
      },
      "source": [
        "def plus_minus(x, y):\n",
        "  return (x+y, x-y)\n",
        "\n",
        "plus_minus(29, 35)"
      ],
      "execution_count": 2,
      "outputs": [
        {
          "output_type": "execute_result",
          "data": {
            "text/plain": [
              "(64, -6)"
            ]
          },
          "metadata": {
            "tags": []
          },
          "execution_count": 2
        }
      ]
    }
  ]
}